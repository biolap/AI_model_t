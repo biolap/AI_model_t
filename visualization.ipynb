{
 "cells": [
  {
   "cell_type": "code",
   "execution_count": null,
   "metadata": {},
   "outputs": [],
   "source": [
    "import pandas as pd\n",
    "import matplotlib.pyplot as plt\n",
    "import numpy as np\n",
    "from emotional_module.emotional_state import EmotionalState  #  Импортируем  EmotionalState\n",
    "\n",
    "action_size = 6 \n",
    "\n",
    "#  Создаем  экземпляр  EmotionalState\n",
    "emotional_state = EmotionalState()  #  Создаем  экземпляр\n",
    "\n",
    "#  Загрузите  данные  из  файла  результатов\n",
    "df = pd.read_csv(\"temp/results_LSTM_2_layers_20240908-201520.txt\")  #  Замените  на  имя  вашего  файла\n",
    "\n",
    "#  Визуализация  интенсивности  эмоций  во  времени\n",
    "plt.figure(figsize=(12, 6))\n",
    "colors = ['blue', 'green', 'red', 'purple', 'orange', 'brown']\n",
    "for  i,  emotion  in  enumerate(emotional_state.emotions):\n",
    "    plt.plot(df[\"Iteration\"],  df[emotion],  label=emotion,  color=colors[i])\n",
    "plt.xlabel(\"Iteration\")\n",
    "plt.ylabel(\"Intensity\")\n",
    "plt.title(\"Интенсивность эмоций во времени\")\n",
    "plt.legend()\n",
    "plt.show()\n",
    "\n",
    "plt.figure(figsize=(12, 6))\n",
    "plt.hist(df[\"Action\"], bins=np.arange(action_size + 1) - 0.5, rwidth=0.8)\n",
    "plt.xlabel(\"Action\")\n",
    "plt.ylabel(\"Frequency\")\n",
    "plt.title(\"Распределение выбранных действий\")\n",
    "plt.xticks(np.arange(action_size), emotional_state.emotions)\n",
    "plt.show()\n",
    "\n",
    "#  Визуализация  эмоциональной  устойчивости  во  времени\n",
    "plt.figure(figsize=(12, 6))\n",
    "plt.plot(df[\"Iteration\"],  df[\"Emotional Stability\"])\n",
    "plt.xlabel(\"Iteration\")\n",
    "plt.ylabel(\"Emotional Stability\")\n",
    "plt.title(\"Эмоциональная устойчивость во времени\")\n",
    "plt.show()\n",
    "\n"
   ]
  },
  {
   "cell_type": "code",
   "execution_count": null,
   "metadata": {},
   "outputs": [],
   "source": []
  }
 ],
 "metadata": {
  "kernelspec": {
   "display_name": "Python 3 (ipykernel)",
   "language": "python",
   "name": "python3"
  },
  "language_info": {
   "codemirror_mode": {
    "name": "ipython",
    "version": 3
   },
   "file_extension": ".py",
   "mimetype": "text/x-python",
   "name": "python",
   "nbconvert_exporter": "python",
   "pygments_lexer": "ipython3",
   "version": "3.11.6"
  }
 },
 "nbformat": 4,
 "nbformat_minor": 4
}
