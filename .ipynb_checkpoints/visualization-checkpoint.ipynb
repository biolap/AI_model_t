{
 "cells": [
  {
   "cell_type": "code",
   "execution_count": null,
   "metadata": {},
   "outputs": [],
   "source": [
    "import  pandas  as  pd\n",
    "import  matplotlib.pyplot  as  plt\n",
    "\n",
    "action_size = 6  #  Определение  action_size\n",
    "\n",
    "#  Загрузите  данные  из  файла  результатов\n",
    "df = pd.read_csv(\"results_LSTM_2_layers_20240908-010606.txt\")  #  Замените  на  имя  вашего  файла\n",
    "\n",
    "#  Визуализация  интенсивности  эмоций  во  времени\n",
    "plt.figure(figsize=(12,  6))\n",
    "for  emotion  in  df.columns[3:9]:  #  Столбцы  с  интенсивностью  эмоций\n",
    "    plt.plot(df[\"Iteration\"],  df[emotion],  label=emotion)\n",
    "plt.xlabel(\"Iteration\")\n",
    "plt.ylabel(\"Intensity\")\n",
    "plt.title(\"Интенсивность  эмоций  во  времени\")\n",
    "plt.legend()\n",
    "plt.show()\n",
    "\n",
    "#  Визуализация  выбранных  действий  во  времени\n",
    "plt.figure(figsize=(8,  4))\n",
    "plt.hist(df[\"Action\"],  bins=range(action_size  +  1),  align='left',  rwidth=0.8)\n",
    "plt.xlabel(\"Action\")\n",
    "plt.ylabel(\"Frequency\")\n",
    "plt.title(\"Распределение  выбранных  действий\")\n",
    "plt.xticks(range(action_size),  [\"Выразить  радость\",  \"Проявить  грусть\",  \"Проявить  гнев\",  \"Избегать  опасности\",  \"Взаимодействовать  с  объектом\",  \"Не  выражать  эмоций\"])\n",
    "plt.show()\n",
    "\n",
    "#  Визуализация  эмоциональной  устойчивости  во  времени\n",
    "plt.figure(figsize=(12,  6))\n",
    "plt.plot(df[\"Iteration\"],  df[\"Emotional  Stability\"])\n",
    "plt.xlabel(\"Iteration\")\n",
    "plt.ylabel(\"Emotional  Stability\")\n",
    "plt.title(\"Эмоциональная  устойчивость  во  времени\")\n",
    "plt.show()\n",
    "\n"
   ]
  }
 ],
 "metadata": {
  "language_info": {
   "name": "python"
  }
 },
 "nbformat": 4,
 "nbformat_minor": 2
}
